{
 "cells": [
  {
   "cell_type": "code",
   "execution_count": 5,
   "id": "7b71736d",
   "metadata": {},
   "outputs": [
    {
     "name": "stdout",
     "output_type": "stream",
     "text": [
      "x x x\n",
      "x   x\n",
      "x x x\n",
      "x   x\n"
     ]
    }
   ],
   "source": [
    "x=1\n",
    "while x<=4:\n",
    "    if x==1:\n",
    "        print('x x x')\n",
    "    elif x==2:\n",
    "        print('x   x')\n",
    "    elif x==3:\n",
    "        print('x x x')\n",
    "    else:\n",
    "        print('x   x')\n",
    "    x=x+1\n",
    "    \n"
   ]
  },
  {
   "cell_type": "code",
   "execution_count": 9,
   "id": "61745ffc",
   "metadata": {},
   "outputs": [
    {
     "name": "stdout",
     "output_type": "stream",
     "text": [
      "x x \n",
      "x  x\n",
      "x x\n",
      "x  x\n",
      "x x \n"
     ]
    }
   ],
   "source": [
    "x=1\n",
    "while x<=5:\n",
    "    if x==1:\n",
    "        print('x x ')\n",
    "    elif x==2:\n",
    "        print('x  x')\n",
    "    elif x==3:\n",
    "        print('x x')\n",
    "    elif x==4:\n",
    "        print('x  x')\n",
    "    else:\n",
    "        print('x x ')\n",
    "    x=x+1\n",
    "    \n"
   ]
  },
  {
   "cell_type": "code",
   "execution_count": 1,
   "id": "a2a3b595",
   "metadata": {},
   "outputs": [
    {
     "name": "stdout",
     "output_type": "stream",
     "text": [
      "x x x\n",
      "x\n",
      "x\n",
      "x x x\n"
     ]
    }
   ],
   "source": [
    "x=1\n",
    "while x<=4:\n",
    "    if x==1:\n",
    "        print('x x x')\n",
    "    elif x==2:\n",
    "        print('x')\n",
    "    elif x==3:\n",
    "        print('x')\n",
    "    else:\n",
    "        print('x x x')\n",
    "    x=x+1\n",
    "    \n"
   ]
  },
  {
   "cell_type": "code",
   "execution_count": 6,
   "id": "59a653df",
   "metadata": {},
   "outputs": [
    {
     "name": "stdout",
     "output_type": "stream",
     "text": [
      "x x \n",
      "x   x\n",
      "x   x\n",
      "x x \n"
     ]
    }
   ],
   "source": [
    "x=1\n",
    "while x<=4:\n",
    "    if x==1:\n",
    "        print('x x ')\n",
    "    elif x==2:\n",
    "        print('x   x')\n",
    "    elif x==3:\n",
    "        print('x   x')\n",
    "    else:\n",
    "        print('x x ')\n",
    "    x=x+1\n",
    "    \n"
   ]
  },
  {
   "cell_type": "code",
   "execution_count": 15,
   "id": "10dd9a47",
   "metadata": {},
   "outputs": [
    {
     "name": "stdout",
     "output_type": "stream",
     "text": [
      "x x x \n",
      "x x\n",
      "x x x\n"
     ]
    }
   ],
   "source": [
    "x=1\n",
    "while x<=3:\n",
    "    if x==1:\n",
    "        print('x x x ')\n",
    "    elif x==2:\n",
    "        print('x x')\n",
    "    else:\n",
    "        print('x x x')\n",
    "    x=x+1\n",
    "    \n"
   ]
  },
  {
   "cell_type": "code",
   "execution_count": 18,
   "id": "fef6326a",
   "metadata": {},
   "outputs": [
    {
     "name": "stdout",
     "output_type": "stream",
     "text": [
      "x x x \n",
      "x\n",
      "x x x\n",
      "x\n",
      "x \n"
     ]
    }
   ],
   "source": [
    "x=1\n",
    "while x<=5:\n",
    "    if x==1:\n",
    "        print('x x x ')\n",
    "    elif x==2:\n",
    "        print('x')\n",
    "    elif x==3:\n",
    "        print('x x x')\n",
    "    elif x==4:\n",
    "        print('x')\n",
    "    else:\n",
    "        print('x ')\n",
    "    x=x+1\n",
    "    \n"
   ]
  },
  {
   "cell_type": "code",
   "execution_count": 23,
   "id": "612063ff",
   "metadata": {},
   "outputs": [
    {
     "name": "stdout",
     "output_type": "stream",
     "text": [
      "x x x \n",
      "x   xxxx\n",
      "x x x  x\n",
      "       x\n"
     ]
    }
   ],
   "source": [
    "x=1\n",
    "while x<=4:\n",
    "    if x==1:\n",
    "        print('x x x ')\n",
    "    elif x==2:\n",
    "        print('x   xxxx')\n",
    "    elif x==3:\n",
    "        print('x x x  x')\n",
    "    else:\n",
    "        print('       x')\n",
    "    x=x+1\n",
    "    \n"
   ]
  },
  {
   "cell_type": "code",
   "execution_count": 28,
   "id": "e1252102",
   "metadata": {},
   "outputs": [
    {
     "name": "stdout",
     "output_type": "stream",
     "text": [
      "x   x\n",
      "x x x\n",
      "x   x\n"
     ]
    }
   ],
   "source": [
    "x=1\n",
    "while x<=3:\n",
    "    if x==1:\n",
    "        print('x   x')\n",
    "    elif x==2:\n",
    "        print('x x x')\n",
    "    else:\n",
    "        print('x   x')\n",
    "    x=x+1\n",
    "    \n"
   ]
  },
  {
   "cell_type": "code",
   "execution_count": 29,
   "id": "f5b3cf4b",
   "metadata": {},
   "outputs": [
    {
     "name": "stdout",
     "output_type": "stream",
     "text": [
      "x x x\n",
      "  x\n",
      "x x x\n"
     ]
    }
   ],
   "source": [
    "x=1\n",
    "while x<=3:\n",
    "    if x==1:\n",
    "        print('x x x')\n",
    "    elif x==2:\n",
    "        print('  x')\n",
    "    else:\n",
    "        print('x x x')\n",
    "    x=x+1\n",
    "    \n"
   ]
  },
  {
   "cell_type": "code",
   "execution_count": 32,
   "id": "6208b356",
   "metadata": {},
   "outputs": [
    {
     "name": "stdout",
     "output_type": "stream",
     "text": [
      "x x x x x\n",
      "    x\n",
      "x   x\n",
      "x x x\n"
     ]
    }
   ],
   "source": [
    "x=1\n",
    "while x<=4:\n",
    "    if x==1:\n",
    "        print('x x x x x')\n",
    "    elif x==2:\n",
    "        print('    x')\n",
    "    elif x==3:\n",
    "        print('x   x')\n",
    "    else:\n",
    "        print('x x x')\n",
    "    x=x+1\n",
    "    \n"
   ]
  },
  {
   "cell_type": "code",
   "execution_count": 33,
   "id": "90abcd14",
   "metadata": {},
   "outputs": [
    {
     "name": "stdout",
     "output_type": "stream",
     "text": [
      "x   x \n",
      "x x\n",
      "x   x\n"
     ]
    }
   ],
   "source": [
    "x=1\n",
    "while x<=3:\n",
    "    if x==1:\n",
    "        print('x   x ')\n",
    "    elif x==2:\n",
    "        print('x x')\n",
    "    else:\n",
    "        print('x   x')\n",
    "    x=x+1\n",
    "    \n"
   ]
  },
  {
   "cell_type": "code",
   "execution_count": 34,
   "id": "46d5b897",
   "metadata": {},
   "outputs": [
    {
     "name": "stdout",
     "output_type": "stream",
     "text": [
      "x\n",
      "x\n",
      "x x x\n"
     ]
    }
   ],
   "source": [
    "x=1\n",
    "while x<=3:\n",
    "    if x==1:\n",
    "        print('x')\n",
    "    elif x==2:\n",
    "        print('x')\n",
    "    else:\n",
    "        print('x x x')\n",
    "    x=x+1\n",
    "    \n"
   ]
  },
  {
   "cell_type": "code",
   "execution_count": 42,
   "id": "d1a138ee",
   "metadata": {},
   "outputs": [
    {
     "name": "stdout",
     "output_type": "stream",
     "text": [
      "x   x \n",
      "x x x\n",
      "x   x\n",
      "x   x\n"
     ]
    }
   ],
   "source": [
    "x=1\n",
    "while x<=4:\n",
    "    if x==1:\n",
    "        print('x   x ')\n",
    "    elif x==2:\n",
    "        print('x x x')\n",
    "    elif x==3:\n",
    "        print('x   x')\n",
    "    else:\n",
    "        print('x   x')\n",
    "    x=x+1\n",
    "    \n"
   ]
  },
  {
   "cell_type": "code",
   "execution_count": 43,
   "id": "15a96c15",
   "metadata": {},
   "outputs": [
    {
     "name": "stdout",
     "output_type": "stream",
     "text": [
      "x     x \n",
      "x x   x\n",
      "x   x x\n",
      "x     x\n"
     ]
    }
   ],
   "source": [
    "x=1\n",
    "while x<=4:\n",
    "    if x==1:\n",
    "        print('x     x ')\n",
    "    elif x==2:\n",
    "        print('x x   x')\n",
    "    elif x==3:\n",
    "        print('x   x x')\n",
    "    else:\n",
    "        print('x     x')\n",
    "    x=x+1\n",
    "    \n"
   ]
  },
  {
   "cell_type": "code",
   "execution_count": 45,
   "id": "49e83d6f",
   "metadata": {},
   "outputs": [
    {
     "name": "stdout",
     "output_type": "stream",
     "text": [
      "  x x \n",
      "x     x\n",
      "x     x\n",
      " x  x  \n"
     ]
    }
   ],
   "source": [
    "x=1\n",
    "while x<=4:\n",
    "    if x==1:\n",
    "        print('  x x ')\n",
    "    elif x==2:\n",
    "        print('x     x')\n",
    "    elif x==3:\n",
    "        print('x     x')\n",
    "    else:\n",
    "        print(' x  x  ')\n",
    "    x=x+1\n",
    "    \n"
   ]
  },
  {
   "cell_type": "code",
   "execution_count": 50,
   "id": "aaff893b",
   "metadata": {},
   "outputs": [
    {
     "name": "stdout",
     "output_type": "stream",
     "text": [
      "x x x \n",
      "x   x\n",
      "x x \n",
      "x \n",
      "x \n"
     ]
    }
   ],
   "source": [
    "x=1\n",
    "while x<=5:\n",
    "    if x==1:\n",
    "        print('x x x ')\n",
    "    elif x==2:\n",
    "        print('x   x')\n",
    "    elif x==3:\n",
    "        print('x x ')\n",
    "    elif x==4:\n",
    "        print('x ')\n",
    "    else:\n",
    "        print('x ')\n",
    "    x=x+1\n",
    "    \n"
   ]
  },
  {
   "cell_type": "code",
   "execution_count": 25,
   "id": "147c999d",
   "metadata": {},
   "outputs": [
    {
     "name": "stdout",
     "output_type": "stream",
     "text": [
      " x  x  x\n",
      "x       x \n",
      "x    x  x\n",
      " x  x  x \n",
      "        x\n"
     ]
    }
   ],
   "source": [
    "x=1\n",
    "while x<=5:\n",
    "    if x==1:\n",
    "        print(' x  x  x')\n",
    "    elif x==2:\n",
    "        print('x       x ')\n",
    "    elif x==3:\n",
    "        print('x    x  x')\n",
    "    elif x==4:\n",
    "        print(' x  x  x ')\n",
    "    else:\n",
    "        print('        x')\n",
    "    x=x+1\n",
    "    \n"
   ]
  },
  {
   "cell_type": "code",
   "execution_count": 2,
   "id": "078e4b27",
   "metadata": {},
   "outputs": [
    {
     "name": "stdout",
     "output_type": "stream",
     "text": [
      "x x x x\n",
      "x    x\n",
      "x   x\n",
      "x x  \n",
      "x   x \n",
      "x     x\n"
     ]
    }
   ],
   "source": [
    "x=1\n",
    "while x<=6:\n",
    "    if x==1:\n",
    "        print('x x x x')\n",
    "    elif x==2:\n",
    "        print('x    x')\n",
    "    elif x==3:\n",
    "        print('x   x')\n",
    "    elif x==4:\n",
    "        print('x x  ')\n",
    "    elif x==5:\n",
    "        print('x   x ')\n",
    "    else:\n",
    "        print('x     x')\n",
    "    x=x+1\n",
    "    \n"
   ]
  },
  {
   "cell_type": "code",
   "execution_count": 7,
   "id": "1e2e4d99",
   "metadata": {},
   "outputs": [
    {
     "name": "stdout",
     "output_type": "stream",
     "text": [
      " xxxxx\n",
      "x \n",
      "  x\n",
      "    x  \n",
      "xxxxxx\n"
     ]
    }
   ],
   "source": [
    "x=1\n",
    "while x<=6:\n",
    "    if x==1:\n",
    "        print(' xxxxx')\n",
    "    elif x==2:\n",
    "        print('x ')\n",
    "    elif x==3:\n",
    "        print('  x')\n",
    "    elif x==4:\n",
    "        print('    x  ')\n",
    "    elif x==5:\n",
    "        print('xxxxxx')\n",
    "    x=x+1\n",
    "    \n"
   ]
  },
  {
   "cell_type": "code",
   "execution_count": 2,
   "id": "d1e06056",
   "metadata": {},
   "outputs": [
    {
     "name": "stdout",
     "output_type": "stream",
     "text": [
      "x x x x\n",
      "   x\n",
      "   x\n",
      "   x\n",
      "   x\n",
      "   x\n"
     ]
    }
   ],
   "source": [
    "x=1\n",
    "while x<=6:\n",
    "    if x==1:\n",
    "        print('x x x x')\n",
    "    elif x<=2 or x<=6:\n",
    "        print('   x')\n",
    "    x=x+1\n",
    "    \n"
   ]
  },
  {
   "cell_type": "code",
   "execution_count": 9,
   "id": "1deb230d",
   "metadata": {},
   "outputs": [
    {
     "name": "stdout",
     "output_type": "stream",
     "text": [
      "x       x\n",
      "x       x\n",
      "x       x\n",
      "x       x\n",
      "x       x\n",
      " x     x\n",
      "  x x x\n"
     ]
    }
   ],
   "source": [
    "x=1\n",
    "while x<=7:\n",
    "    if x==1 or x<=5:\n",
    "        print('x       x')\n",
    "    elif x==6:\n",
    "        print(' x     x')\n",
    "    elif x==7:\n",
    "        print('  x x x')\n",
    "    x=x+1\n",
    "    \n"
   ]
  },
  {
   "cell_type": "code",
   "execution_count": 22,
   "id": "ef987ba0",
   "metadata": {},
   "outputs": [
    {
     "name": "stdout",
     "output_type": "stream",
     "text": [
      "x     x \n",
      " x   x \n",
      "   x\n"
     ]
    }
   ],
   "source": [
    "x=1\n",
    "while x<=3:\n",
    "    if x==1:\n",
    "        print('x     x ')\n",
    "    elif x==2:\n",
    "        print(' x   x ')\n",
    "    elif x==3:\n",
    "        print('   x')\n",
    "    x=x+1\n",
    "    \n"
   ]
  },
  {
   "cell_type": "code",
   "execution_count": 29,
   "id": "9ade53d2",
   "metadata": {},
   "outputs": [
    {
     "name": "stdout",
     "output_type": "stream",
     "text": [
      "x       x\n",
      "x       x\n",
      "x       x\n",
      "x   x   x\n",
      " x     x\n"
     ]
    }
   ],
   "source": [
    "x=1\n",
    "while x<=5:\n",
    "    if x==1 or x<=3:\n",
    "        print('x       x')\n",
    "    elif x==4:\n",
    "        print('x   x   x')\n",
    "    elif x==5:\n",
    "        print(' x     x')\n",
    "    x=x+1\n",
    "    \n"
   ]
  },
  {
   "cell_type": "code",
   "execution_count": 35,
   "id": "fda0325c",
   "metadata": {},
   "outputs": [
    {
     "name": "stdout",
     "output_type": "stream",
     "text": [
      "  x   x\n",
      "    x   \n",
      "  x   x\n",
      "x      x\n"
     ]
    }
   ],
   "source": [
    "x=1\n",
    "while x<=4:\n",
    "    if x==1:\n",
    "        print('  x   x')\n",
    "    elif x==2:\n",
    "        print('    x   ')\n",
    "    elif x==3:\n",
    "        print('  x   x')\n",
    "    else:\n",
    "        print('x      x')\n",
    "    x=x+1\n",
    "    \n"
   ]
  },
  {
   "cell_type": "code",
   "execution_count": 42,
   "id": "0be08d42",
   "metadata": {},
   "outputs": [
    {
     "name": "stdout",
     "output_type": "stream",
     "text": [
      "  x      x\n",
      "    x  x\n",
      "     x\n",
      "   x\n",
      " x\n"
     ]
    }
   ],
   "source": [
    "x=1\n",
    "while x<=5:\n",
    "    if x==1:\n",
    "        print('  x      x')\n",
    "    elif x==2:\n",
    "        print('    x  x')\n",
    "    elif x==3:\n",
    "        print('     x')\n",
    "    elif x==4:\n",
    "        print('   x')\n",
    "    else:\n",
    "        print(' x')\n",
    "    x=x+1\n",
    "    \n"
   ]
  },
  {
   "cell_type": "code",
   "execution_count": 46,
   "id": "fa2cca19",
   "metadata": {},
   "outputs": [
    {
     "name": "stdout",
     "output_type": "stream",
     "text": [
      "  x x x x\n",
      "       x\n",
      "     x\n",
      "  x x x x x \n"
     ]
    }
   ],
   "source": [
    "x=1\n",
    "while x<=4:\n",
    "    if x==1:\n",
    "        print('  x x x x')\n",
    "    elif x==2:\n",
    "        print('       x')\n",
    "    elif x==3:\n",
    "        print('     x')\n",
    "    elif x==4:\n",
    "        print('  x x x x x ')\n",
    "    x=x+1\n",
    "    \n"
   ]
  },
  {
   "cell_type": "code",
   "execution_count": null,
   "id": "ffbb872f",
   "metadata": {},
   "outputs": [],
   "source": []
  },
  {
   "cell_type": "code",
   "execution_count": null,
   "id": "ae5f10c8",
   "metadata": {},
   "outputs": [],
   "source": []
  },
  {
   "cell_type": "code",
   "execution_count": null,
   "id": "d57837d4",
   "metadata": {},
   "outputs": [],
   "source": []
  },
  {
   "cell_type": "code",
   "execution_count": null,
   "id": "c757339b",
   "metadata": {},
   "outputs": [],
   "source": []
  }
 ],
 "metadata": {
  "kernelspec": {
   "display_name": "Python 3 (ipykernel)",
   "language": "python",
   "name": "python3"
  },
  "language_info": {
   "codemirror_mode": {
    "name": "ipython",
    "version": 3
   },
   "file_extension": ".py",
   "mimetype": "text/x-python",
   "name": "python",
   "nbconvert_exporter": "python",
   "pygments_lexer": "ipython3",
   "version": "3.9.12"
  }
 },
 "nbformat": 4,
 "nbformat_minor": 5
}
